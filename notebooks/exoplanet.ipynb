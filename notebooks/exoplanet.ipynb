{
 "cells": [
  {
   "cell_type": "code",
   "execution_count": 30,
   "id": "85dabd98-cade-498f-8e33-57a982863b20",
   "metadata": {},
   "outputs": [],
   "source": [
    "import numpy as np\n",
    "import matplotlib.pyplot as plt\n",
    "from celluloid import Camera\n",
    "from tqdm import tqdm\n",
    "\n",
    "plt.style.use('dark_mode')"
   ]
  },
  {
   "cell_type": "markdown",
   "id": "09a929a2-ae84-4f1c-97e4-173cba0832ea",
   "metadata": {},
   "source": [
    "# Create Body Objects"
   ]
  },
  {
   "cell_type": "code",
   "execution_count": 31,
   "id": "e4cc6cd4-c997-4677-aace-e126bd9a6ba3",
   "metadata": {},
   "outputs": [],
   "source": [
    "class Body:\n",
    "    def __init__(self, position, radius):\n",
    "        self.position = position\n",
    "        self.radius = radius\n",
    "        self.angular_size = 1\n",
    "\n",
    "    def calc_position(self, t):\n",
    "        \"\"\"\n",
    "        A function to update the position of the planet. We use a simple parametric \n",
    "        equation in cylindrical coordinates.\n",
    "        \"\"\"\n",
    "        x,y,z = 2*np.cos(((t * 2* np.pi) / (N_frames))+ np.pi/2), 2*np.sin(((t * 2* np.pi) / (N_frames)) + np.pi/2), 0\n",
    "        self.position = np.array([x, y, 0 ])\n",
    "        \n",
    "    def calc_projection(self, t):\n",
    "        \"\"\"\n",
    "        We set up a camera in the y-plane to compute the projected perspective.\n",
    "        \"\"\"\n",
    "        camera_ = np.array([0,-1 * Camera_Distance,0])\n",
    "        dr_vec = self.position - camera_\n",
    "        distance = np.linalg.norm(dr_vec)\n",
    "        \n",
    "        self.angular_size = self.radius / distance\n",
    "        \n",
    "        return distance\n"
   ]
  },
  {
   "cell_type": "markdown",
   "id": "3dd01bc2-ca92-456c-812b-63bdf1b0bc23",
   "metadata": {},
   "source": [
    "# Physics/Math Functions for Calculating Brightness Dip"
   ]
  },
  {
   "cell_type": "code",
   "execution_count": 32,
   "id": "73701124-544b-4cd4-880e-a86910a1c77f",
   "metadata": {},
   "outputs": [],
   "source": [
    "def area_overlap(circle_A, circle_B):\n",
    "    \"\"\"\n",
    "    A function to compute the overlapping projected area of 2 circles (using angular size for perspective).\n",
    "    \"\"\"\n",
    "    \n",
    "    d = np.sqrt((circle_B.position[0] - circle_A.position[0])**2 + (circle_B.position[2] - circle_A.position[2])**2)\n",
    "\n",
    "    if d < (circle_A.angular_size + circle_B.angular_size):\n",
    "        \n",
    "        a = circle_A.angular_size**2\n",
    "        b = circle_B.angular_size**2\n",
    "        \n",
    "        x = (a - b + d**2) / (2 * d)\n",
    "        z = x**2\n",
    "\n",
    "        y = np.sqrt(np.abs(a - z))\n",
    "\n",
    "        if d <= np.abs(circle_B.angular_size - circle_A.angular_size):\n",
    "            AREA = np.pi * min(a, b)\n",
    "        else:  \n",
    "            AREA = a * np.arcsin(y / circle_A.angular_size) + b * np.arcsin(y / circle_B.angular_size) - y * (x + np.sqrt(z + b - a))\n",
    "        \n",
    "        \n",
    "        return AREA\n",
    "    \n",
    "    return 0\n",
    "    \n",
    "    \n",
    "def calc_blocked_light(star,planet, t):\n",
    "    \"\"\"\n",
    "    A function to calculate the amount of light blocked by the planet.\n",
    "    \"\"\"\n",
    "    area_star = np.pi * star.angular_size**2\n",
    "    \n",
    "    d_planet = planet.calc_projection(t)\n",
    "    d_sun = star.calc_projection(t)\n",
    "    \n",
    "    if d_planet < d_sun:\n",
    "        area_planet = area_overlap(star,planet)\n",
    "    else:\n",
    "        area_planet = 0\n",
    "        \n",
    "\n",
    "    return 1 - (area_planet / area_star)"
   ]
  },
  {
   "cell_type": "markdown",
   "id": "dbfae1aa-7e05-4eb6-bd64-16ed38185fbf",
   "metadata": {},
   "source": [
    "# Plotting Function for Animation"
   ]
  },
  {
   "cell_type": "code",
   "execution_count": 33,
   "id": "310775ef-d6df-46db-ada7-4ba0a1f7620b",
   "metadata": {},
   "outputs": [],
   "source": [
    "def draw(axes, camera, t, Sun, Planet, brightness_curve, times):\n",
    "    \"\"\"\n",
    "    A function to draw the exoplanet orbit and the lightcurve.\n",
    "    \"\"\"\n",
    "    \n",
    "    #physics\n",
    "    Planet.calc_position(t)\n",
    "    \n",
    "    d_planet = Planet.calc_projection(t)\n",
    "    d_sun = Sun.calc_projection(t)\n",
    "    \n",
    "    brightness_dip = calc_blocked_light(Sun,Planet, t)\n",
    "    brightness_curve.append(brightness_dip)\n",
    "    times.append(t)\n",
    "    \n",
    "    #plotting\n",
    "    axes[1].plot(times, brightness_curve,linewidth=2, color=\"white\")\n",
    "    axes[1].plot(times[-1], brightness_curve[-1], marker=\"o\", color=\"white\")\n",
    "    axes[1].set_ylim(0.99,1.002)\n",
    "    axes[1].set_xlim(0,N_frames)\n",
    "    axes[1].set_xlabel(\"Days\")\n",
    "    axes[1].set_ylabel(\"Brightness Dip\")\n",
    "    \n",
    "    if d_planet > d_sun:\n",
    "        \n",
    "        planet = plt.Circle((Planet.position[0], Planet.position[2]), Planet.angular_size, color='cyan')\n",
    "        axes[0].add_patch(planet)\n",
    "        \n",
    "        sun = plt.Circle((Sun.position[0],Sun.position[1]), Sun.angular_size, color='red', zorder=10)\n",
    "        axes[0].add_patch(sun)\n",
    "        \n",
    "    else:\n",
    "        sun = plt.Circle((Sun.position[0],Sun.position[1]), Sun.angular_size, color='red')\n",
    "        axes[0].add_patch(sun)\n",
    "        \n",
    "        planet = plt.Circle((Planet.position[0], Planet.position[2]), Planet.angular_size, color='cyan', zorder=10)\n",
    "        axes[0].add_patch(planet)\n",
    "        \n",
    "    plt.tight_layout()\n",
    "        \n",
    "    camera.snap()"
   ]
  },
  {
   "cell_type": "markdown",
   "id": "39801a18-5b2e-4f6b-878f-def8929b96b3",
   "metadata": {},
   "source": [
    "# Main Loop"
   ]
  },
  {
   "cell_type": "code",
   "execution_count": 34,
   "id": "8200808c-836f-4e1a-a625-b9879743a285",
   "metadata": {},
   "outputs": [],
   "source": [
    "def main():\n",
    "    \"\"\"\n",
    "    Main loop hosted within this function. This runs the entire simulation.\n",
    "    \"\"\"\n",
    "\n",
    "    #setup the sim\n",
    "    Sun = Body(np.zeros(3), Star_Radius)\n",
    "    Planet = Body(np.array([0,1,0]), Planet_Radius)\n",
    "    \n",
    "    #create the figure\n",
    "    fig, axes = plt.subplots(2,1, figsize=(6, 6), gridspec_kw={'hspace':0.0})\n",
    "    axes[0].set_title(\"Exoplanet Transit\", pad = 10)\n",
    "    axes[0].set_xticks([]); axes[0].set_yticks([])\n",
    "    axes[0].set_xlim(-3,3), axes[0].set_ylim(-3,3)\n",
    "    axes[0].axis('equal')\n",
    "\n",
    "    \n",
    "    camera = Camera(fig)\n",
    "\n",
    "    brightness_curve, times = [], []\n",
    "    #Main Loop for Simulation!\n",
    "    for frame in tqdm(range(N_frames)):\n",
    "        draw(axes, camera, frame, Sun, Planet, brightness_curve, times)\n",
    "        \n",
    "    animation = camera.animate(blit=True)\n",
    "\n",
    "    #save animation\n",
    "    animation.save('../outputs/exoplanet.gif', fps=30)"
   ]
  },
  {
   "cell_type": "markdown",
   "id": "cf877eb2-5521-4f95-a33a-076c36f05c23",
   "metadata": {},
   "source": [
    "# Run Simulation"
   ]
  },
  {
   "cell_type": "code",
   "execution_count": 35,
   "id": "a0957638-7831-4daa-9cb9-c24e946ee2d8",
   "metadata": {},
   "outputs": [
    {
     "name": "stderr",
     "output_type": "stream",
     "text": [
      "100%|█████████████████████████████████████████| 200/200 [00:07<00:00, 28.21it/s]\n",
      "MovieWriter ffmpeg unavailable; using Pillow instead.\n"
     ]
    },
    {
     "data": {
      "image/png": "[encoded data removed]",
      "text/plain": [
       "<Figure size 600x600 with 2 Axes>"
      ]
     },
     "metadata": {},
     "output_type": "display_data"
    }
   ],
   "source": [
    "N_frames = 200\n",
    "Star_Radius = 5\n",
    "Planet_Radius = 0.3\n",
    "Camera_Distance = 8\n",
    "main()"
   ]
  },
  {
   "cell_type": "code",
   "execution_count": null,
   "id": "4af268c2-bf06-4560-ac0b-6af357e8c97c",
   "metadata": {},
   "outputs": [],
   "source": []
  }
 ],
 "metadata": {
  "kernelspec": {
   "display_name": "Python 3 (ipykernel)",
   "language": "python",
   "name": "python3"
  },
  "language_info": {
   "codemirror_mode": {
    "name": "ipython",
    "version": 3
   },
   "file_extension": ".py",
   "mimetype": "text/x-python",
   "name": "python",
   "nbconvert_exporter": "python",
   "pygments_lexer": "ipython3",
   "version": "3.9.12"
  }
 },
 "nbformat": 4,
 "nbformat_minor": 5
}
